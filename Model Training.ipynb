{
 "cells": [
  {
   "cell_type": "code",
   "execution_count": 1,
   "id": "bee823d3",
   "metadata": {},
   "outputs": [],
   "source": [
    "import pandas as pd"
   ]
  },
  {
   "cell_type": "code",
   "execution_count": 2,
   "id": "bdae49f3",
   "metadata": {},
   "outputs": [],
   "source": [
    "df = pd.read_csv(\"spotify_millsongdata.csv\")"
   ]
  },
  {
   "cell_type": "code",
   "execution_count": 3,
   "id": "d7ba6ad2",
   "metadata": {},
   "outputs": [
    {
     "data": {
      "text/html": [
       "<div>\n",
       "<style scoped>\n",
       "    .dataframe tbody tr th:only-of-type {\n",
       "        vertical-align: middle;\n",
       "    }\n",
       "\n",
       "    .dataframe tbody tr th {\n",
       "        vertical-align: top;\n",
       "    }\n",
       "\n",
       "    .dataframe thead th {\n",
       "        text-align: right;\n",
       "    }\n",
       "</style>\n",
       "<table border=\"1\" class=\"dataframe\">\n",
       "  <thead>\n",
       "    <tr style=\"text-align: right;\">\n",
       "      <th></th>\n",
       "      <th>artist</th>\n",
       "      <th>song</th>\n",
       "      <th>link</th>\n",
       "      <th>text</th>\n",
       "    </tr>\n",
       "  </thead>\n",
       "  <tbody>\n",
       "    <tr>\n",
       "      <th>0</th>\n",
       "      <td>ABBA</td>\n",
       "      <td>Ahe's My Kind Of Girl</td>\n",
       "      <td>/a/abba/ahes+my+kind+of+girl_20598417.html</td>\n",
       "      <td>Look at her face, it's a wonderful face  \\r\\nA...</td>\n",
       "    </tr>\n",
       "    <tr>\n",
       "      <th>1</th>\n",
       "      <td>ABBA</td>\n",
       "      <td>Andante, Andante</td>\n",
       "      <td>/a/abba/andante+andante_20002708.html</td>\n",
       "      <td>Take it easy with me, please  \\r\\nTouch me gen...</td>\n",
       "    </tr>\n",
       "    <tr>\n",
       "      <th>2</th>\n",
       "      <td>ABBA</td>\n",
       "      <td>As Good As New</td>\n",
       "      <td>/a/abba/as+good+as+new_20003033.html</td>\n",
       "      <td>I'll never know why I had to go  \\r\\nWhy I had...</td>\n",
       "    </tr>\n",
       "    <tr>\n",
       "      <th>3</th>\n",
       "      <td>ABBA</td>\n",
       "      <td>Bang</td>\n",
       "      <td>/a/abba/bang_20598415.html</td>\n",
       "      <td>Making somebody happy is a question of give an...</td>\n",
       "    </tr>\n",
       "    <tr>\n",
       "      <th>4</th>\n",
       "      <td>ABBA</td>\n",
       "      <td>Bang-A-Boomerang</td>\n",
       "      <td>/a/abba/bang+a+boomerang_20002668.html</td>\n",
       "      <td>Making somebody happy is a question of give an...</td>\n",
       "    </tr>\n",
       "  </tbody>\n",
       "</table>\n",
       "</div>"
      ],
      "text/plain": [
       "  artist                   song                                        link  \\\n",
       "0   ABBA  Ahe's My Kind Of Girl  /a/abba/ahes+my+kind+of+girl_20598417.html   \n",
       "1   ABBA       Andante, Andante       /a/abba/andante+andante_20002708.html   \n",
       "2   ABBA         As Good As New        /a/abba/as+good+as+new_20003033.html   \n",
       "3   ABBA                   Bang                  /a/abba/bang_20598415.html   \n",
       "4   ABBA       Bang-A-Boomerang      /a/abba/bang+a+boomerang_20002668.html   \n",
       "\n",
       "                                                text  \n",
       "0  Look at her face, it's a wonderful face  \\r\\nA...  \n",
       "1  Take it easy with me, please  \\r\\nTouch me gen...  \n",
       "2  I'll never know why I had to go  \\r\\nWhy I had...  \n",
       "3  Making somebody happy is a question of give an...  \n",
       "4  Making somebody happy is a question of give an...  "
      ]
     },
     "execution_count": 3,
     "metadata": {},
     "output_type": "execute_result"
    }
   ],
   "source": [
    "df.head(5)"
   ]
  },
  {
   "cell_type": "code",
   "execution_count": 4,
   "id": "af6967e3",
   "metadata": {},
   "outputs": [
    {
     "data": {
      "text/html": [
       "<div>\n",
       "<style scoped>\n",
       "    .dataframe tbody tr th:only-of-type {\n",
       "        vertical-align: middle;\n",
       "    }\n",
       "\n",
       "    .dataframe tbody tr th {\n",
       "        vertical-align: top;\n",
       "    }\n",
       "\n",
       "    .dataframe thead th {\n",
       "        text-align: right;\n",
       "    }\n",
       "</style>\n",
       "<table border=\"1\" class=\"dataframe\">\n",
       "  <thead>\n",
       "    <tr style=\"text-align: right;\">\n",
       "      <th></th>\n",
       "      <th>artist</th>\n",
       "      <th>song</th>\n",
       "      <th>link</th>\n",
       "      <th>text</th>\n",
       "    </tr>\n",
       "  </thead>\n",
       "  <tbody>\n",
       "    <tr>\n",
       "      <th>57645</th>\n",
       "      <td>Ziggy Marley</td>\n",
       "      <td>Good Old Days</td>\n",
       "      <td>/z/ziggy+marley/good+old+days_10198588.html</td>\n",
       "      <td>Irie days come on play  \\r\\nLet the angels fly...</td>\n",
       "    </tr>\n",
       "    <tr>\n",
       "      <th>57646</th>\n",
       "      <td>Ziggy Marley</td>\n",
       "      <td>Hand To Mouth</td>\n",
       "      <td>/z/ziggy+marley/hand+to+mouth_20531167.html</td>\n",
       "      <td>Power to the workers  \\r\\nMore power  \\r\\nPowe...</td>\n",
       "    </tr>\n",
       "    <tr>\n",
       "      <th>57647</th>\n",
       "      <td>Zwan</td>\n",
       "      <td>Come With Me</td>\n",
       "      <td>/z/zwan/come+with+me_20148981.html</td>\n",
       "      <td>all you need  \\r\\nis something i'll believe  \\...</td>\n",
       "    </tr>\n",
       "    <tr>\n",
       "      <th>57648</th>\n",
       "      <td>Zwan</td>\n",
       "      <td>Desire</td>\n",
       "      <td>/z/zwan/desire_20148986.html</td>\n",
       "      <td>northern star  \\r\\nam i frightened  \\r\\nwhere ...</td>\n",
       "    </tr>\n",
       "    <tr>\n",
       "      <th>57649</th>\n",
       "      <td>Zwan</td>\n",
       "      <td>Heartsong</td>\n",
       "      <td>/z/zwan/heartsong_20148991.html</td>\n",
       "      <td>come in  \\r\\nmake yourself at home  \\r\\ni'm a ...</td>\n",
       "    </tr>\n",
       "  </tbody>\n",
       "</table>\n",
       "</div>"
      ],
      "text/plain": [
       "             artist           song  \\\n",
       "57645  Ziggy Marley  Good Old Days   \n",
       "57646  Ziggy Marley  Hand To Mouth   \n",
       "57647          Zwan   Come With Me   \n",
       "57648          Zwan         Desire   \n",
       "57649          Zwan      Heartsong   \n",
       "\n",
       "                                              link  \\\n",
       "57645  /z/ziggy+marley/good+old+days_10198588.html   \n",
       "57646  /z/ziggy+marley/hand+to+mouth_20531167.html   \n",
       "57647           /z/zwan/come+with+me_20148981.html   \n",
       "57648                 /z/zwan/desire_20148986.html   \n",
       "57649              /z/zwan/heartsong_20148991.html   \n",
       "\n",
       "                                                    text  \n",
       "57645  Irie days come on play  \\r\\nLet the angels fly...  \n",
       "57646  Power to the workers  \\r\\nMore power  \\r\\nPowe...  \n",
       "57647  all you need  \\r\\nis something i'll believe  \\...  \n",
       "57648  northern star  \\r\\nam i frightened  \\r\\nwhere ...  \n",
       "57649  come in  \\r\\nmake yourself at home  \\r\\ni'm a ...  "
      ]
     },
     "execution_count": 4,
     "metadata": {},
     "output_type": "execute_result"
    }
   ],
   "source": [
    "df.tail(5)"
   ]
  },
  {
   "cell_type": "code",
   "execution_count": 5,
   "id": "dcce17de",
   "metadata": {},
   "outputs": [
    {
     "data": {
      "text/plain": [
       "(57650, 4)"
      ]
     },
     "execution_count": 5,
     "metadata": {},
     "output_type": "execute_result"
    }
   ],
   "source": [
    "df.shape"
   ]
  },
  {
   "cell_type": "code",
   "execution_count": 6,
   "id": "43a1323d",
   "metadata": {},
   "outputs": [
    {
     "data": {
      "text/plain": [
       "artist    0\n",
       "song      0\n",
       "link      0\n",
       "text      0\n",
       "dtype: int64"
      ]
     },
     "execution_count": 6,
     "metadata": {},
     "output_type": "execute_result"
    }
   ],
   "source": [
    "df.isnull().sum()"
   ]
  },
  {
   "cell_type": "code",
   "execution_count": 7,
   "id": "49fe1a82",
   "metadata": {},
   "outputs": [],
   "source": [
    "df = df.sample(10000).drop('link',axis = 1).reset_index(drop=True)"
   ]
  },
  {
   "cell_type": "code",
   "execution_count": 8,
   "id": "f1a9c91d",
   "metadata": {},
   "outputs": [
    {
     "data": {
      "text/html": [
       "<div>\n",
       "<style scoped>\n",
       "    .dataframe tbody tr th:only-of-type {\n",
       "        vertical-align: middle;\n",
       "    }\n",
       "\n",
       "    .dataframe tbody tr th {\n",
       "        vertical-align: top;\n",
       "    }\n",
       "\n",
       "    .dataframe thead th {\n",
       "        text-align: right;\n",
       "    }\n",
       "</style>\n",
       "<table border=\"1\" class=\"dataframe\">\n",
       "  <thead>\n",
       "    <tr style=\"text-align: right;\">\n",
       "      <th></th>\n",
       "      <th>artist</th>\n",
       "      <th>song</th>\n",
       "      <th>text</th>\n",
       "    </tr>\n",
       "  </thead>\n",
       "  <tbody>\n",
       "    <tr>\n",
       "      <th>0</th>\n",
       "      <td>New Order</td>\n",
       "      <td>Thieves Like Us</td>\n",
       "      <td>I've watched your face for a long time  \\r\\nIt...</td>\n",
       "    </tr>\n",
       "    <tr>\n",
       "      <th>1</th>\n",
       "      <td>Cliff Richard</td>\n",
       "      <td>In The Night</td>\n",
       "      <td>You waken from a dream  \\r\\nYou step outside  ...</td>\n",
       "    </tr>\n",
       "    <tr>\n",
       "      <th>2</th>\n",
       "      <td>Chris Brown</td>\n",
       "      <td>Mercy</td>\n",
       "      <td>[Hook:]  \\r\\nLamborghini mercy  \\r\\nYour chick...</td>\n",
       "    </tr>\n",
       "    <tr>\n",
       "      <th>3</th>\n",
       "      <td>Steve Miller Band</td>\n",
       "      <td>Winter Time</td>\n",
       "      <td>In the winter time  \\r\\nWhen all the leaves ar...</td>\n",
       "    </tr>\n",
       "    <tr>\n",
       "      <th>4</th>\n",
       "      <td>Noa</td>\n",
       "      <td>Pizmon Layakinton</td>\n",
       "      <td>Lailah lailah, mistakelet halevanah  \\r\\nBapra...</td>\n",
       "    </tr>\n",
       "    <tr>\n",
       "      <th>5</th>\n",
       "      <td>Ocean Colour Scene</td>\n",
       "      <td>Charlie Brown Says</td>\n",
       "      <td>Charlie brown says  \\r\\nNo-one promised this w...</td>\n",
       "    </tr>\n",
       "    <tr>\n",
       "      <th>6</th>\n",
       "      <td>The Script</td>\n",
       "      <td>I'm Yours</td>\n",
       "      <td>You touch these tired eyes of mine  \\r\\nAnd ma...</td>\n",
       "    </tr>\n",
       "    <tr>\n",
       "      <th>7</th>\n",
       "      <td>Dusty Springfield</td>\n",
       "      <td>Live It Up</td>\n",
       "      <td>Now, you work all week just to make that money...</td>\n",
       "    </tr>\n",
       "    <tr>\n",
       "      <th>8</th>\n",
       "      <td>Rolling Stones</td>\n",
       "      <td>Andrew's Blues</td>\n",
       "      <td>Yes now Andrew Oldham sittin' on a hill with J...</td>\n",
       "    </tr>\n",
       "    <tr>\n",
       "      <th>9</th>\n",
       "      <td>Who</td>\n",
       "      <td>Dr. Jekyll And Mr. Hyde</td>\n",
       "      <td>Hyde, Hyde.  \\r\\nSomeone is spending my money ...</td>\n",
       "    </tr>\n",
       "  </tbody>\n",
       "</table>\n",
       "</div>"
      ],
      "text/plain": [
       "               artist                     song  \\\n",
       "0           New Order          Thieves Like Us   \n",
       "1       Cliff Richard             In The Night   \n",
       "2         Chris Brown                    Mercy   \n",
       "3   Steve Miller Band              Winter Time   \n",
       "4                 Noa        Pizmon Layakinton   \n",
       "5  Ocean Colour Scene       Charlie Brown Says   \n",
       "6          The Script                I'm Yours   \n",
       "7   Dusty Springfield               Live It Up   \n",
       "8      Rolling Stones           Andrew's Blues   \n",
       "9                 Who  Dr. Jekyll And Mr. Hyde   \n",
       "\n",
       "                                                text  \n",
       "0  I've watched your face for a long time  \\r\\nIt...  \n",
       "1  You waken from a dream  \\r\\nYou step outside  ...  \n",
       "2  [Hook:]  \\r\\nLamborghini mercy  \\r\\nYour chick...  \n",
       "3  In the winter time  \\r\\nWhen all the leaves ar...  \n",
       "4  Lailah lailah, mistakelet halevanah  \\r\\nBapra...  \n",
       "5  Charlie brown says  \\r\\nNo-one promised this w...  \n",
       "6  You touch these tired eyes of mine  \\r\\nAnd ma...  \n",
       "7  Now, you work all week just to make that money...  \n",
       "8  Yes now Andrew Oldham sittin' on a hill with J...  \n",
       "9  Hyde, Hyde.  \\r\\nSomeone is spending my money ...  "
      ]
     },
     "execution_count": 8,
     "metadata": {},
     "output_type": "execute_result"
    }
   ],
   "source": [
    "df.head(10)"
   ]
  },
  {
   "cell_type": "code",
   "execution_count": 9,
   "id": "834793fb",
   "metadata": {},
   "outputs": [
    {
     "data": {
      "text/plain": [
       "\"I've watched your face for a long time  \\r\\nIt's always the same  \\r\\nI've studied the cracks and the wrinkles  \\r\\nYou were always so vain  \\r\\nWell, now you live your life like a shadow  \\r\\nIn the pouring rain  \\r\\nOh, it's called love  \\r\\nYes, it's called love  \\r\\nOh, it's called love  \\r\\nAnd it belongs to us  \\r\\nOh, it dies so quickly  \\r\\nIt grows so slowly  \\r\\nBut when it dies, it dies for good  \\r\\nIt's called love  \\r\\nAnd it belongs to everyone but us  \\r\\n  \\r\\nI've lived my life in the valleys  \\r\\nI've lived my life on the hills  \\r\\nI've lived my life on alcohol  \\r\\nI've lived my life on pills  \\r\\nBut it's called love  \\r\\nAnd it belongs to us  \\r\\nIt's called love  \\r\\nAnd it's the only thing that's worth living for  \\r\\nIt's called love  \\r\\nAnd it belongs to us  \\r\\nIt's called love  \\r\\nYes it's called love  \\r\\n  \\r\\nOh, love is found in the east and west  \\r\\nBut when love is at home, it's the best  \\r\\nLove is the cure for every evil  \\r\\nLove is the air that supports the eagle  \\r\\nIt's called love  \\r\\nAnd it's so un-cool  \\r\\nIt's called love  \\r\\nAnd somehow it's become unmentionable  \\r\\nIt's called love  \\r\\nAnd it belongs to every one of us  \\r\\nIt's called love  \\r\\nAnd it cuts your life like a broken knife\\r\\n\\r\\n\""
      ]
     },
     "execution_count": 9,
     "metadata": {},
     "output_type": "execute_result"
    }
   ],
   "source": [
    "df['text'][0]"
   ]
  },
  {
   "cell_type": "code",
   "execution_count": null,
   "id": "2a18a25c",
   "metadata": {},
   "outputs": [],
   "source": []
  },
  {
   "cell_type": "code",
   "execution_count": 10,
   "id": "3af7a5b7",
   "metadata": {},
   "outputs": [
    {
     "data": {
      "text/plain": [
       "(10000, 3)"
      ]
     },
     "execution_count": 10,
     "metadata": {},
     "output_type": "execute_result"
    }
   ],
   "source": [
    "df.shape"
   ]
  },
  {
   "cell_type": "markdown",
   "id": "2da2efa2",
   "metadata": {},
   "source": [
    "# Text Cleaning and Preprocessing"
   ]
  },
  {
   "cell_type": "code",
   "execution_count": 11,
   "id": "3fe12e70",
   "metadata": {},
   "outputs": [],
   "source": [
    "df['text']= df['text'].str.lower().replace(r'^\\w\\s','').replace(r'\\n',' ',regex =True)"
   ]
  },
  {
   "cell_type": "code",
   "execution_count": 12,
   "id": "91aa9b7a",
   "metadata": {
    "scrolled": true
   },
   "outputs": [
    {
     "data": {
      "text/html": [
       "<div>\n",
       "<style scoped>\n",
       "    .dataframe tbody tr th:only-of-type {\n",
       "        vertical-align: middle;\n",
       "    }\n",
       "\n",
       "    .dataframe tbody tr th {\n",
       "        vertical-align: top;\n",
       "    }\n",
       "\n",
       "    .dataframe thead th {\n",
       "        text-align: right;\n",
       "    }\n",
       "</style>\n",
       "<table border=\"1\" class=\"dataframe\">\n",
       "  <thead>\n",
       "    <tr style=\"text-align: right;\">\n",
       "      <th></th>\n",
       "      <th>artist</th>\n",
       "      <th>song</th>\n",
       "      <th>text</th>\n",
       "    </tr>\n",
       "  </thead>\n",
       "  <tbody>\n",
       "    <tr>\n",
       "      <th>0</th>\n",
       "      <td>New Order</td>\n",
       "      <td>Thieves Like Us</td>\n",
       "      <td>i've watched your face for a long time  \\r it'...</td>\n",
       "    </tr>\n",
       "    <tr>\n",
       "      <th>1</th>\n",
       "      <td>Cliff Richard</td>\n",
       "      <td>In The Night</td>\n",
       "      <td>you waken from a dream  \\r you step outside  \\...</td>\n",
       "    </tr>\n",
       "    <tr>\n",
       "      <th>2</th>\n",
       "      <td>Chris Brown</td>\n",
       "      <td>Mercy</td>\n",
       "      <td>[hook:]  \\r lamborghini mercy  \\r your chick, ...</td>\n",
       "    </tr>\n",
       "    <tr>\n",
       "      <th>3</th>\n",
       "      <td>Steve Miller Band</td>\n",
       "      <td>Winter Time</td>\n",
       "      <td>in the winter time  \\r when all the leaves are...</td>\n",
       "    </tr>\n",
       "    <tr>\n",
       "      <th>4</th>\n",
       "      <td>Noa</td>\n",
       "      <td>Pizmon Layakinton</td>\n",
       "      <td>lailah lailah, mistakelet halevanah  \\r baprac...</td>\n",
       "    </tr>\n",
       "    <tr>\n",
       "      <th>...</th>\n",
       "      <td>...</td>\n",
       "      <td>...</td>\n",
       "      <td>...</td>\n",
       "    </tr>\n",
       "    <tr>\n",
       "      <th>9995</th>\n",
       "      <td>The Monkees</td>\n",
       "      <td>She'll Be There</td>\n",
       "      <td>when your dreams have died around you, she'll ...</td>\n",
       "    </tr>\n",
       "    <tr>\n",
       "      <th>9996</th>\n",
       "      <td>Billy Joel</td>\n",
       "      <td>Temptation</td>\n",
       "      <td>it's time for me to be on my way i know  \\r i'...</td>\n",
       "    </tr>\n",
       "    <tr>\n",
       "      <th>9997</th>\n",
       "      <td>Tragically Hip</td>\n",
       "      <td>Yawning Or Snarling</td>\n",
       "      <td>one day in el paso  \\r the cops go into the cr...</td>\n",
       "    </tr>\n",
       "    <tr>\n",
       "      <th>9998</th>\n",
       "      <td>Rick Astley</td>\n",
       "      <td>Sleeping</td>\n",
       "      <td>i toss and turn, i'm turning around but i cann...</td>\n",
       "    </tr>\n",
       "    <tr>\n",
       "      <th>9999</th>\n",
       "      <td>Vanessa Williams</td>\n",
       "      <td>You Are Everything</td>\n",
       "      <td>you are, you are, everything, everything, oh  ...</td>\n",
       "    </tr>\n",
       "  </tbody>\n",
       "</table>\n",
       "<p>10000 rows × 3 columns</p>\n",
       "</div>"
      ],
      "text/plain": [
       "                 artist                 song  \\\n",
       "0             New Order      Thieves Like Us   \n",
       "1         Cliff Richard         In The Night   \n",
       "2           Chris Brown                Mercy   \n",
       "3     Steve Miller Band          Winter Time   \n",
       "4                   Noa    Pizmon Layakinton   \n",
       "...                 ...                  ...   \n",
       "9995        The Monkees      She'll Be There   \n",
       "9996         Billy Joel           Temptation   \n",
       "9997     Tragically Hip  Yawning Or Snarling   \n",
       "9998        Rick Astley             Sleeping   \n",
       "9999   Vanessa Williams   You Are Everything   \n",
       "\n",
       "                                                   text  \n",
       "0     i've watched your face for a long time  \\r it'...  \n",
       "1     you waken from a dream  \\r you step outside  \\...  \n",
       "2     [hook:]  \\r lamborghini mercy  \\r your chick, ...  \n",
       "3     in the winter time  \\r when all the leaves are...  \n",
       "4     lailah lailah, mistakelet halevanah  \\r baprac...  \n",
       "...                                                 ...  \n",
       "9995  when your dreams have died around you, she'll ...  \n",
       "9996  it's time for me to be on my way i know  \\r i'...  \n",
       "9997  one day in el paso  \\r the cops go into the cr...  \n",
       "9998  i toss and turn, i'm turning around but i cann...  \n",
       "9999  you are, you are, everything, everything, oh  ...  \n",
       "\n",
       "[10000 rows x 3 columns]"
      ]
     },
     "execution_count": 12,
     "metadata": {},
     "output_type": "execute_result"
    }
   ],
   "source": [
    "df"
   ]
  },
  {
   "cell_type": "code",
   "execution_count": 13,
   "id": "ccf5bf83",
   "metadata": {},
   "outputs": [
    {
     "data": {
      "text/html": [
       "<div>\n",
       "<style scoped>\n",
       "    .dataframe tbody tr th:only-of-type {\n",
       "        vertical-align: middle;\n",
       "    }\n",
       "\n",
       "    .dataframe tbody tr th {\n",
       "        vertical-align: top;\n",
       "    }\n",
       "\n",
       "    .dataframe thead th {\n",
       "        text-align: right;\n",
       "    }\n",
       "</style>\n",
       "<table border=\"1\" class=\"dataframe\">\n",
       "  <thead>\n",
       "    <tr style=\"text-align: right;\">\n",
       "      <th></th>\n",
       "      <th>artist</th>\n",
       "      <th>song</th>\n",
       "      <th>text</th>\n",
       "    </tr>\n",
       "  </thead>\n",
       "  <tbody>\n",
       "    <tr>\n",
       "      <th>9995</th>\n",
       "      <td>The Monkees</td>\n",
       "      <td>She'll Be There</td>\n",
       "      <td>when your dreams have died around you, she'll ...</td>\n",
       "    </tr>\n",
       "    <tr>\n",
       "      <th>9996</th>\n",
       "      <td>Billy Joel</td>\n",
       "      <td>Temptation</td>\n",
       "      <td>it's time for me to be on my way i know  \\r i'...</td>\n",
       "    </tr>\n",
       "    <tr>\n",
       "      <th>9997</th>\n",
       "      <td>Tragically Hip</td>\n",
       "      <td>Yawning Or Snarling</td>\n",
       "      <td>one day in el paso  \\r the cops go into the cr...</td>\n",
       "    </tr>\n",
       "    <tr>\n",
       "      <th>9998</th>\n",
       "      <td>Rick Astley</td>\n",
       "      <td>Sleeping</td>\n",
       "      <td>i toss and turn, i'm turning around but i cann...</td>\n",
       "    </tr>\n",
       "    <tr>\n",
       "      <th>9999</th>\n",
       "      <td>Vanessa Williams</td>\n",
       "      <td>You Are Everything</td>\n",
       "      <td>you are, you are, everything, everything, oh  ...</td>\n",
       "    </tr>\n",
       "  </tbody>\n",
       "</table>\n",
       "</div>"
      ],
      "text/plain": [
       "                artist                 song  \\\n",
       "9995       The Monkees      She'll Be There   \n",
       "9996        Billy Joel           Temptation   \n",
       "9997    Tragically Hip  Yawning Or Snarling   \n",
       "9998       Rick Astley             Sleeping   \n",
       "9999  Vanessa Williams   You Are Everything   \n",
       "\n",
       "                                                   text  \n",
       "9995  when your dreams have died around you, she'll ...  \n",
       "9996  it's time for me to be on my way i know  \\r i'...  \n",
       "9997  one day in el paso  \\r the cops go into the cr...  \n",
       "9998  i toss and turn, i'm turning around but i cann...  \n",
       "9999  you are, you are, everything, everything, oh  ...  "
      ]
     },
     "execution_count": 13,
     "metadata": {},
     "output_type": "execute_result"
    }
   ],
   "source": [
    "df.tail(5)"
   ]
  },
  {
   "cell_type": "code",
   "execution_count": 14,
   "id": "bd1f858f",
   "metadata": {},
   "outputs": [],
   "source": [
    "import nltk\n",
    "from nltk.stem.porter import PorterStemmer "
   ]
  },
  {
   "cell_type": "code",
   "execution_count": 15,
   "id": "1460dbff",
   "metadata": {},
   "outputs": [],
   "source": [
    "stemmer = PorterStemmer()"
   ]
  },
  {
   "cell_type": "code",
   "execution_count": 16,
   "id": "b378bb26",
   "metadata": {},
   "outputs": [],
   "source": [
    " def token(txt):\n",
    "        token = nltk.word_tokenize(txt)\n",
    "        a =[stemmer.stem(w) for w in token]\n",
    "        return \" \".join(a)"
   ]
  },
  {
   "cell_type": "code",
   "execution_count": 18,
   "id": "1eae98d5",
   "metadata": {},
   "outputs": [
    {
     "name": "stderr",
     "output_type": "stream",
     "text": [
      "[nltk_data] Downloading package punkt to\n",
      "[nltk_data]     C:\\Users\\Sanjana\\AppData\\Roaming\\nltk_data...\n",
      "[nltk_data]   Package punkt is already up-to-date!\n"
     ]
    },
    {
     "data": {
      "text/plain": [
       "True"
      ]
     },
     "execution_count": 18,
     "metadata": {},
     "output_type": "execute_result"
    }
   ],
   "source": [
    "import nltk\n",
    "nltk.download('punkt')\n"
   ]
  },
  {
   "cell_type": "code",
   "execution_count": 29,
   "id": "41592ca4",
   "metadata": {},
   "outputs": [
    {
     "data": {
      "text/plain": [
       "'you are beauti , beauti'"
      ]
     },
     "execution_count": 29,
     "metadata": {},
     "output_type": "execute_result"
    }
   ],
   "source": [
    "token(\"you are beautiful, beauty\")"
   ]
  },
  {
   "cell_type": "code",
   "execution_count": 30,
   "id": "9233d6ba",
   "metadata": {},
   "outputs": [
    {
     "data": {
      "text/plain": [
       "0       i 've watch your face for a long time it 's al...\n",
       "1       you waken from a dream you step outsid to find...\n",
       "2       [ hook : ] lamborghini merci your chick , she ...\n",
       "3       in the winter time when all the leav are brown...\n",
       "4       lailah lailah , mistakelet halevanah baprachim...\n",
       "                              ...                        \n",
       "9995    when your dream have die around you , she 'll ...\n",
       "9996    it 's time for me to be on my way i know i 've...\n",
       "9997    one day in el paso the cop go into the crowd u...\n",
       "9998    i toss and turn , i 'm turn around but i can n...\n",
       "9999    you are , you are , everyth , everyth , oh you...\n",
       "Name: text, Length: 10000, dtype: object"
      ]
     },
     "execution_count": 30,
     "metadata": {},
     "output_type": "execute_result"
    }
   ],
   "source": [
    "df['text'].apply(lambda x: token(x))"
   ]
  },
  {
   "cell_type": "code",
   "execution_count": 31,
   "id": "b41968c2",
   "metadata": {},
   "outputs": [],
   "source": [
    "from sklearn.feature_extraction.text import TfidfVectorizer\n",
    "from sklearn.metrics.pairwise import cosine_similarity\n"
   ]
  },
  {
   "cell_type": "code",
   "execution_count": 32,
   "id": "3bc77f20",
   "metadata": {},
   "outputs": [],
   "source": [
    "tfid = TfidfVectorizer(analyzer = 'word', stop_words='english') "
   ]
  },
  {
   "cell_type": "code",
   "execution_count": 33,
   "id": "0722c036",
   "metadata": {},
   "outputs": [],
   "source": [
    "matrix=tfid.fit_transform(df['text'])"
   ]
  },
  {
   "cell_type": "code",
   "execution_count": 34,
   "id": "9f68936a",
   "metadata": {},
   "outputs": [],
   "source": [
    "similer=cosine_similarity(matrix)"
   ]
  },
  {
   "cell_type": "code",
   "execution_count": 35,
   "id": "7b4d03a2",
   "metadata": {},
   "outputs": [
    {
     "data": {
      "text/plain": [
       "array([1.00000000e+00, 6.48289388e-02, 7.78655179e-03, ...,\n",
       "       5.46689516e-04, 3.80075313e-03, 1.80117587e-01])"
      ]
     },
     "execution_count": 35,
     "metadata": {},
     "output_type": "execute_result"
    }
   ],
   "source": [
    "similer[0]"
   ]
  },
  {
   "cell_type": "code",
   "execution_count": 40,
   "id": "57cd306e",
   "metadata": {},
   "outputs": [
    {
     "data": {
      "text/plain": [
       "0"
      ]
     },
     "execution_count": 40,
     "metadata": {},
     "output_type": "execute_result"
    }
   ],
   "source": [
    "df[df['song']=='Thieves Like Us'].index[0]"
   ]
  },
  {
   "cell_type": "markdown",
   "id": "131ddf58",
   "metadata": {},
   "source": [
    "Recommender Function"
   ]
  },
  {
   "cell_type": "code",
   "execution_count": null,
   "id": "3b79aa5d",
   "metadata": {},
   "outputs": [],
   "source": [
    "def recommender(song_name):\n",
    "    idx = df[df['song']==song_name].index[0]\n",
    "    distance = sorted( list(enumerate(similer[idx])), reverse = True, key = lambda x:x[1])\n",
    "    song = []\n",
    "    for s_id in distance[1:6]:\n",
    "        song.append(df.iloc[s_id[0]].song)\n",
    "    return song"
   ]
  },
  {
   "cell_type": "code",
   "execution_count": 45,
   "id": "2021ccf7",
   "metadata": {},
   "outputs": [
    {
     "ename": "IndexError",
     "evalue": "index 0 is out of bounds for axis 0 with size 0",
     "output_type": "error",
     "traceback": [
      "\u001b[1;31m---------------------------------------------------------------------------\u001b[0m",
      "\u001b[1;31mIndexError\u001b[0m                                Traceback (most recent call last)",
      "Cell \u001b[1;32mIn[45], line 1\u001b[0m\n\u001b[1;32m----> 1\u001b[0m recommender(\u001b[38;5;124m\"\u001b[39m\u001b[38;5;124mWednesday\u001b[39m\u001b[38;5;124m'\u001b[39m\u001b[38;5;124ms Child\u001b[39m\u001b[38;5;124m\"\u001b[39m)\n",
      "Cell \u001b[1;32mIn[26], line 2\u001b[0m, in \u001b[0;36mrecommender\u001b[1;34m(song_name)\u001b[0m\n\u001b[0;32m      1\u001b[0m \u001b[38;5;28;01mdef\u001b[39;00m \u001b[38;5;21mrecommender\u001b[39m(song_name):\n\u001b[1;32m----> 2\u001b[0m     idx \u001b[38;5;241m=\u001b[39m df[df[\u001b[38;5;124m'\u001b[39m\u001b[38;5;124msong\u001b[39m\u001b[38;5;124m'\u001b[39m]\u001b[38;5;241m==\u001b[39msong_name]\u001b[38;5;241m.\u001b[39mindex[\u001b[38;5;241m0\u001b[39m]\n\u001b[0;32m      3\u001b[0m     distance \u001b[38;5;241m=\u001b[39m \u001b[38;5;28msorted\u001b[39m( \u001b[38;5;28mlist\u001b[39m(\u001b[38;5;28menumerate\u001b[39m(similer[idx])), reverse \u001b[38;5;241m=\u001b[39m \u001b[38;5;28;01mTrue\u001b[39;00m, key \u001b[38;5;241m=\u001b[39m \u001b[38;5;28;01mlambda\u001b[39;00m x:x[\u001b[38;5;241m1\u001b[39m])\n\u001b[0;32m      4\u001b[0m     song \u001b[38;5;241m=\u001b[39m []\n",
      "File \u001b[1;32m~\\anaconda3\\Lib\\site-packages\\pandas\\core\\indexes\\base.py:5175\u001b[0m, in \u001b[0;36mIndex.__getitem__\u001b[1;34m(self, key)\u001b[0m\n\u001b[0;32m   5172\u001b[0m \u001b[38;5;28;01mif\u001b[39;00m is_integer(key) \u001b[38;5;129;01mor\u001b[39;00m is_float(key):\n\u001b[0;32m   5173\u001b[0m     \u001b[38;5;66;03m# GH#44051 exclude bool, which would return a 2d ndarray\u001b[39;00m\n\u001b[0;32m   5174\u001b[0m     key \u001b[38;5;241m=\u001b[39m com\u001b[38;5;241m.\u001b[39mcast_scalar_indexer(key)\n\u001b[1;32m-> 5175\u001b[0m     \u001b[38;5;28;01mreturn\u001b[39;00m getitem(key)\n\u001b[0;32m   5177\u001b[0m \u001b[38;5;28;01mif\u001b[39;00m \u001b[38;5;28misinstance\u001b[39m(key, \u001b[38;5;28mslice\u001b[39m):\n\u001b[0;32m   5178\u001b[0m     \u001b[38;5;66;03m# This case is separated from the conditional above to avoid\u001b[39;00m\n\u001b[0;32m   5179\u001b[0m     \u001b[38;5;66;03m# pessimization com.is_bool_indexer and ndim checks.\u001b[39;00m\n\u001b[0;32m   5180\u001b[0m     result \u001b[38;5;241m=\u001b[39m getitem(key)\n",
      "\u001b[1;31mIndexError\u001b[0m: index 0 is out of bounds for axis 0 with size 0"
     ]
    }
   ],
   "source": [
    "recommender(\"Wednesday's Child\")"
   ]
  },
  {
   "cell_type": "code",
   "execution_count": 42,
   "id": "1c390eb4",
   "metadata": {},
   "outputs": [],
   "source": [
    "import pickle"
   ]
  },
  {
   "cell_type": "code",
   "execution_count": 43,
   "id": "7dc0a781",
   "metadata": {},
   "outputs": [],
   "source": [
    "pickle.dump(similer,open(\"similarity\",\"wb\"))"
   ]
  },
  {
   "cell_type": "code",
   "execution_count": 44,
   "id": "cc8689be",
   "metadata": {},
   "outputs": [],
   "source": [
    "pickle.dump(df,open(\"df\",\"wb\"))"
   ]
  },
  {
   "cell_type": "code",
   "execution_count": 47,
   "id": "2d89b479",
   "metadata": {},
   "outputs": [],
   "source": [
    "similarity = pickle.load(open(r\"C:\\Users\\Sanjana\\OneDrive\\Desktop\\coding\\notspotify3\\dataset\\similarity.pkl\", \"rb\"))\n"
   ]
  },
  {
   "cell_type": "code",
   "execution_count": 50,
   "id": "a8a84d2d",
   "metadata": {},
   "outputs": [
    {
     "data": {
      "text/plain": [
       "(10000, 10000)"
      ]
     },
     "execution_count": 50,
     "metadata": {},
     "output_type": "execute_result"
    }
   ],
   "source": [
    "similer.shape\n"
   ]
  },
  {
   "cell_type": "code",
   "execution_count": 39,
   "id": "39d5ad94",
   "metadata": {},
   "outputs": [
    {
     "name": "stdout",
     "output_type": "stream",
     "text": [
      "Baby Driver\n"
     ]
    },
    {
     "ename": "NameError",
     "evalue": "name 'song_name' is not defined",
     "output_type": "error",
     "traceback": [
      "\u001b[1;31m---------------------------------------------------------------------------\u001b[0m",
      "\u001b[1;31mNameError\u001b[0m                                 Traceback (most recent call last)",
      "Cell \u001b[1;32mIn[39], line 2\u001b[0m\n\u001b[0;32m      1\u001b[0m \u001b[38;5;28mprint\u001b[39m(\u001b[38;5;124m\"\u001b[39m\u001b[38;5;124mBaby Driver\u001b[39m\u001b[38;5;124m\"\u001b[39m)  \u001b[38;5;66;03m# Ensure it's exactly as expected\u001b[39;00m\n\u001b[1;32m----> 2\u001b[0m \u001b[38;5;28mprint\u001b[39m(df[df[\u001b[38;5;124m'\u001b[39m\u001b[38;5;124msong\u001b[39m\u001b[38;5;124m'\u001b[39m] \u001b[38;5;241m==\u001b[39m song_name])\n",
      "\u001b[1;31mNameError\u001b[0m: name 'song_name' is not defined"
     ]
    }
   ],
   "source": [
    "print(\"Baby Driver\")  # Ensure it's exactly as expected\n",
    "print(df[df['song'] == song_name])  # Check if the song exists in the dataset\n",
    "\n"
   ]
  },
  {
   "cell_type": "code",
   "execution_count": 40,
   "id": "cb148bd3",
   "metadata": {},
   "outputs": [
    {
     "ename": "NameError",
     "evalue": "name 'load_data' is not defined",
     "output_type": "error",
     "traceback": [
      "\u001b[1;31m---------------------------------------------------------------------------\u001b[0m",
      "\u001b[1;31mNameError\u001b[0m                                 Traceback (most recent call last)",
      "Cell \u001b[1;32mIn[40], line 1\u001b[0m\n\u001b[1;32m----> 1\u001b[0m music, similarity \u001b[38;5;241m=\u001b[39m load_data()\n\u001b[0;32m      2\u001b[0m \u001b[38;5;28mprint\u001b[39m(\u001b[38;5;124mf\u001b[39m\u001b[38;5;124m\"\u001b[39m\u001b[38;5;124mMusic shape: \u001b[39m\u001b[38;5;132;01m{\u001b[39;00mmusic\u001b[38;5;241m.\u001b[39mshape\u001b[38;5;132;01m}\u001b[39;00m\u001b[38;5;124m\"\u001b[39m)\n\u001b[0;32m      3\u001b[0m \u001b[38;5;28mprint\u001b[39m(\u001b[38;5;124mf\u001b[39m\u001b[38;5;124m\"\u001b[39m\u001b[38;5;124mSimilarity shape: \u001b[39m\u001b[38;5;132;01m{\u001b[39;00msimilarity\u001b[38;5;241m.\u001b[39mshape\u001b[38;5;132;01m}\u001b[39;00m\u001b[38;5;124m\"\u001b[39m)\n",
      "\u001b[1;31mNameError\u001b[0m: name 'load_data' is not defined"
     ]
    }
   ],
   "source": [
    "music, similarity = load_data()\n",
    "print(f\"Music shape: {music.shape}\")\n",
    "print(f\"Similarity shape: {similarity.shape}\")"
   ]
  },
  {
   "cell_type": "code",
   "execution_count": null,
   "id": "dae3f5a6",
   "metadata": {},
   "outputs": [],
   "source": []
  }
 ],
 "metadata": {
  "kernelspec": {
   "display_name": "Python 3 (ipykernel)",
   "language": "python",
   "name": "python3"
  },
  "language_info": {
   "codemirror_mode": {
    "name": "ipython",
    "version": 3
   },
   "file_extension": ".py",
   "mimetype": "text/x-python",
   "name": "python",
   "nbconvert_exporter": "python",
   "pygments_lexer": "ipython3",
   "version": "3.11.5"
  }
 },
 "nbformat": 4,
 "nbformat_minor": 5
}
